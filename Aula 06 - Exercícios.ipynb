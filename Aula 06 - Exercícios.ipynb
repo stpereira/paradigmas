{
 "cells": [
  {
   "cell_type": "markdown",
   "metadata": {},
   "source": [
    "1 - Defina a função soma_nat que recebe como argumento um número natural n e devolve a soma de todos os números naturais até n.\n",
    "\n",
    "Ex: soma_nat(5) = 15"
   ]
  },
  {
   "cell_type": "code",
   "execution_count": null,
   "metadata": {},
   "outputs": [],
   "source": [
    "def get_number():\n",
    "    while True:\n",
    "        numero = int(input('Insira um número natural: '))\n",
    "        if numero < 0:\n",
    "            print('Este número não é natural! Digite outro.')\n",
    "            continue\n",
    "        else:\n",
    "            return numero\n",
    "\n",
    "def soma_nat(n):\n",
    "    ##Stephani M Pereira 201305525\n",
    "    return 0 if n==0 else n+soma_nat(n-1)\n",
    "\n",
    "def f_main():\n",
    "    return soma_nat(get_number())\n",
    "\n",
    "print('A soma dos números naturais é: %d' %(f_main()))"
   ]
  },
  {
   "cell_type": "markdown",
   "metadata": {},
   "source": [
    "3 - Defina a função prim_alg que recebe como argumento um número natural e devolve o primeiro algarismo (o mais significativo) \n",
    "na representação decimal de n.\n"
   ]
  },
  {
   "cell_type": "code",
   "execution_count": null,
   "metadata": {},
   "outputs": [],
   "source": [
    "def prim_alg(num):\n",
    "    return int(str(num)[:1])\n",
    "def prim_alg_rec(num): ##Stephani Munique Pereira 201305525\n",
    "    return int(num) if len(str(num)) == 1 else prim_alg_rec(str(num)[:-1])\n",
    "assert(prim_alg_rec(60989) == 6)\n",
    "assert(prim_alg_rec(70989) == 7)"
   ]
  },
  {
   "cell_type": "markdown",
   "metadata": {},
   "source": [
    "5 - Defina a função contem_parQ que recebe como argumento uma lista de números inteiros w e devolve True se w contém um número par e False em caso contrário.\n",
    "\n",
    "Ex: contem_parQ([2,3,1,2,3,4]) = True Ex: contem_parQ([1,3,5,7]) = False"
   ]
  },
  {
   "cell_type": "code",
   "execution_count": null,
   "metadata": {},
   "outputs": [],
   "source": [
    "def monta_lista():\n",
    "    lista = []\n",
    "    while True:\n",
    "        item = input('Insira um número inteiro: ')\n",
    "        try:\n",
    "            lista.append(int(item))\n",
    "        except (ValueError, Exception):\n",
    "            ##Stephani Munique Pereira 201305525\n",
    "            if len(lista) > 0:\n",
    "                resultado = verifica_par(lista)\n",
    "                print(resultado)\n",
    "                break\n",
    "            else:\n",
    "                print('Lista Vazia.')\n",
    "\n",
    "\n",
    "def verifica_par(lista):\n",
    "    return True if len(lista)> 0 and (lista[len(lista)-1] % 2 == 0 or verifica_par(lista[:-1])) else False\n",
    "    \n",
    "def f_main():\n",
    "    return monta_lista()\n",
    "\n",
    "f_main()"
   ]
  },
  {
   "cell_type": "markdown",
   "metadata": {},
   "source": [
    "6 - Defina a função todos_imparesQ que recebe como argumento uma lista de números inteiros w e devolve True se w contém apenas números ímpares e False em caso contrário.\n",
    "\n",
    "Ex: todos_imparesQ([1,3,5,7]) = True Ex: todos_imparesQ([]) = True Ex: todos_imparesQ([1,2,3,4,5]) = False"
   ]
  },
  {
   "cell_type": "code",
   "execution_count": null,
   "metadata": {},
   "outputs": [],
   "source": [
    "def todos_imparesQ(w): ##Stephani M Pereira 201305525\n",
    "    return False if len(w) > 0 and (w[len(w)-1]%2== 0 or todos_imparesQ(w[:-1])) else True "
   ]
  },
  {
   "cell_type": "code",
   "execution_count": null,
   "metadata": {},
   "outputs": [],
   "source": [
    "assert(todos_imparesQ([1,3,5,7]) == True)\n",
    "assert(todos_imparesQ([]) == True) ##Stephani M Pereira 201305525\n",
    "assert(todos_imparesQ([1,2,3,4,4,4,5,1]) == False)"
   ]
  },
  {
   "cell_type": "markdown",
   "metadata": {},
   "source": [
    "10 - Defina a função inverteLista que recebe como argumento uma lista w e devolve a mesma lista mas invertida.\n",
    "\n",
    "Ex: inverteLista([1,2,3,4,5]) = [5, 4, 3, 2, 1] Ex: inverteLista([])"
   ]
  },
  {
   "cell_type": "code",
   "execution_count": null,
   "metadata": {},
   "outputs": [],
   "source": [
    "def monta_lista():\n",
    "    lista = []\n",
    "    n_lista = []\n",
    "    print('OBS: Você será solicitado a inserir elementos na lista até inserir um elemento inválido')\n",
    "    while True:\n",
    "        item = input('Insira um número inteiro na lista: ')\n",
    "        try:\n",
    "            lista.append(int(item)) ##Stephani M Pereira 201305525\n",
    "        except (ValueError, Exception):\n",
    "            print(f'Lista = {lista}')\n",
    "            n_lista = inverte(lista)\n",
    "            print(f'Lista Invertida = {n_lista}')\n",
    "            break\n",
    "\n",
    "inverte = lambda lista: (inverte(lista[1:]) + lista[:1] if lista else [])\n",
    "    \n",
    "def f_main():##Stephani M Pereira 201305525\n",
    "    return monta_lista()\n",
    "\n",
    "f_main()"
   ]
  }
 ],
 "metadata": {
  "kernelspec": {
   "display_name": "Python 3",
   "language": "python",
   "name": "python3"
  },
  "language_info": {
   "codemirror_mode": {
    "name": "ipython",
    "version": 3
   },
   "file_extension": ".py",
   "mimetype": "text/x-python",
   "name": "python",
   "nbconvert_exporter": "python",
   "pygments_lexer": "ipython3",
   "version": "3.6.4"
  }
 },
 "nbformat": 4,
 "nbformat_minor": 2
}
