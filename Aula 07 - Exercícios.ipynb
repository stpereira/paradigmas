{
 "cells": [
  {
   "cell_type": "markdown",
   "metadata": {},
   "source": [
    "1 - Defina a função soma_nat que recebe como argumento um número natural n e devolve a soma de todos os números naturais até n.\n",
    "\n",
    "Ex: soma_nat(5) = 15"
   ]
  },
  {
   "cell_type": "code",
   "execution_count": 11,
   "metadata": {},
   "outputs": [
    {
     "name": "stdout",
     "output_type": "stream",
     "text": [
      "Número Natural: 5\n",
      "A soma é: 15\n"
     ]
    }
   ],
   "source": [
    "get_number = lambda: int(input('Número Natural: '))  \n",
    "\n",
    "soma_nat = lambda n:0 if n == 0 else print('Este número não é natural, digite outro!') if n<0 else n+soma_nat(n-1)\n",
    "## Stephani Munique Pereira 201305525\n",
    "(lambda m:print(f'A soma é: {m}') if m != None \n",
    " else print('Este número não é natural.'))(soma_nat(get_number()))"
   ]
  },
  {
   "cell_type": "markdown",
   "metadata": {},
   "source": [
    "3 - Defina a função prim_alg que recebe como argumento um número natural e devolve o primeiro algarismo \n",
    "(o mais significativo) na representação decimal de n."
   ]
  },
  {
   "cell_type": "code",
   "execution_count": 3,
   "metadata": {},
   "outputs": [],
   "source": [
    "prim_alg_lambda = lambda num: num if len(str(num)) == 1 else prim_alg_lambda(str(num)[:-1])"
   ]
  },
  {
   "cell_type": "code",
   "execution_count": 4,
   "metadata": {},
   "outputs": [],
   "source": [
    "assert(prim_alg_lambda(60989) == '6') ## Stephani Munique Pereira 201305525\n",
    "assert(prim_alg_lambda(70989) == '7')"
   ]
  },
  {
   "cell_type": "markdown",
   "metadata": {},
   "source": [
    "4 - Defina a função prod_lista que recebe como argumento uma lista de inteiros e devolve o produto dos seus elementos.\n",
    "\n",
    "Ex: prod_lista([1,2,3,4,5,6]) = 720"
   ]
  },
  {
   "cell_type": "code",
   "execution_count": 10,
   "metadata": {},
   "outputs": [
    {
     "name": "stdout",
     "output_type": "stream",
     "text": [
      "Insira números na lista até que algum seja inválido. Ex: 1,1\n",
      "Insira um número: 5\n",
      "Insira um número: 2\n",
      "Insira um número: 1\n",
      "Insira um número: 4\n",
      "Insira um número: 1,1\n",
      "Lista = [5.0, 2.0, 1.0, 4.0] \n",
      "Produto dos elementos = 40.0\n"
     ]
    }
   ],
   "source": [
    "print('Insira números na lista até que algum seja inválido. Ex: 1,1')\n",
    "monta = lambda: float(input('Insira um número: '))\n",
    "produto_lista = lambda lista:lista[len(lista)-1] * produto_lista(lista[:-1]) if len(lista) > 0 else 1  \n",
    "main = lambda funcao: funcao()\n",
    "\n",
    "def monta_lista():\n",
    "    lista = []\n",
    "    while True:\n",
    "        try:\n",
    "            lista.append(monta())\n",
    "        except (ValueError, Exception): ##Stephani Munique Pereira 201305525\n",
    "            if len(lista) > 0:\n",
    "                produtos = produto_lista(lista)\n",
    "            else:\n",
    "                produtos = 0\n",
    "            print(f'Lista = {lista} \\nProduto dos elementos = {produtos}')\n",
    "            break\n",
    "    \n",
    "main(monta_lista)"
   ]
  },
  {
   "cell_type": "markdown",
   "metadata": {},
   "source": [
    "6 - Defina a função todos_imparesQ que recebe como argumento uma lista de números inteiros w e devolve True se  w contém apenas números ímpares e False em caso contrário.\n",
    "\n",
    "Ex: todos_imparesQ([1,3,5,7]) = True\n",
    "Ex: todos_imparesQ([]) = True\n",
    "Ex: todos_imparesQ([1,2,3,4,5]) = False"
   ]
  },
  {
   "cell_type": "code",
   "execution_count": 6,
   "metadata": {},
   "outputs": [],
   "source": [
    "todos_imparesQ_rec = lambda w: False if len(w) > 0 and (w[len(w)-1]%2== 0 or todos_imparesQ_rec(w[:-1])) else True \n",
    "##Stephani Munique Pereira 201305525"
   ]
  },
  {
   "cell_type": "code",
   "execution_count": 7,
   "metadata": {},
   "outputs": [],
   "source": [
    "assert(todos_imparesQ_rec([1,3,5,7]) == True)\n",
    "assert(todos_imparesQ_rec([]) == True) ##Stephani Munique Pereira 201305525\n",
    "assert(todos_imparesQ_rec([1,2,3,4,4,4,5,1]) == False)"
   ]
  },
  {
   "cell_type": "markdown",
   "metadata": {},
   "source": [
    "10 - Defina a função inverteLista que recebe como argumento uma lista w e devolve a mesma lista mas invertida.\n",
    "\n",
    "Ex: inverteLista([1,2,3,4,5]) = [5, 4, 3, 2, 1] Ex: inverteLista([])"
   ]
  },
  {
   "cell_type": "code",
   "execution_count": 9,
   "metadata": {},
   "outputs": [
    {
     "name": "stdout",
     "output_type": "stream",
     "text": [
      "Insira números na lista até que algum seja inválido. Ex: 1,1\n",
      "Digite um número: 2\n",
      "Digite um número: 3\n",
      "Digite um número: 5\n",
      "Digite um número: 4\n",
      "Digite um número: 1,1\n",
      "Lista = [2, 3, 5, 4]\n",
      "Lista Invertida = [4, 5, 3, 2]\n"
     ]
    }
   ],
   "source": [
    "print('Insira números na lista até que algum seja inválido. Ex: 1,1')\n",
    "monta = lambda: int(input('Digite um número: '))\n",
    "\n",
    "inverte = lambda lista: (inverte(lista[1:]) + lista[:1] if lista else [])\n",
    "main = lambda funcao: funcao()\n",
    "\n",
    "def monta_lista():\n",
    "    lista = []\n",
    "    n_lista = [] ## Stephani Munique Pereira 201305525\n",
    "    while True:\n",
    "        try:\n",
    "            lista.append(monta())\n",
    "        except (ValueError, Exception):\n",
    "            print(f'Lista = {lista}')\n",
    "            n_lista = inverte(lista)\n",
    "            print(f'Lista Invertida = {n_lista}')\n",
    "            break ## Stephani Munique Pereira 201305525\n",
    "main(monta_lista)"
   ]
  }
 ],
 "metadata": {
  "kernelspec": {
   "display_name": "Python 3",
   "language": "python",
   "name": "python3"
  },
  "language_info": {
   "codemirror_mode": {
    "name": "ipython",
    "version": 3
   },
   "file_extension": ".py",
   "mimetype": "text/x-python",
   "name": "python",
   "nbconvert_exporter": "python",
   "pygments_lexer": "ipython3",
   "version": "3.6.4"
  }
 },
 "nbformat": 4,
 "nbformat_minor": 2
}
