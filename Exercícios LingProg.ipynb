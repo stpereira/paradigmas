{
 "cells": [
  {
   "cell_type": "markdown",
   "metadata": {},
   "source": [
    "1- Faça um Programa que peça dois números e imprima o maior deles."
   ]
  },
  {
   "cell_type": "code",
   "execution_count": 1,
   "metadata": {},
   "outputs": [
    {
     "name": "stdout",
     "output_type": "stream",
     "text": [
      "Digite um valor para x: 5\n",
      "Digite outro valor para y: 5\n",
      "Os números são iguais\n"
     ]
    }
   ],
   "source": [
    "x = int(input(\"Digite um valor para x: \"))\n",
    "y = int(input(\"Digite outro valor para y: \"))\n",
    "if x > y:\n",
    "    print(f\"O maior valor é {x}\")\n",
    "elif y > x:\n",
    "    print(f\"O maior valor é {y}\")\n",
    "else:\n",
    "    print(\"Os números são iguais\")\n"
   ]
  },
  {
   "cell_type": "markdown",
   "metadata": {},
   "source": [
    "2 - Faça um Programa que verifique se uma letra digitada é vogal ou consoante."
   ]
  },
  {
   "cell_type": "code",
   "execution_count": 11,
   "metadata": {},
   "outputs": [
    {
     "name": "stdout",
     "output_type": "stream",
     "text": [
      "Digite uma letra: a\n",
      "A letra é uma vogal\n"
     ]
    }
   ],
   "source": [
    "x = input ('Digite uma letra: ')\n",
    "\n",
    "if x == 'a' or x == 'e' or x == 'i' or x == 'o' or x == 'u':\n",
    "    print ('A letra é uma vogal')\n",
    "else:\n",
    "    print ('A letra é uma consoante')"
   ]
  },
  {
   "cell_type": "markdown",
   "metadata": {},
   "source": [
    "3 - Faça um programa para a leitura de duas notas parciais de um aluno. O programa deve calcular a média alcançada por aluno e apresentar:\n",
    "- A mensagem \"Aprovado\", se a média alcançada for maior ou igual a sete;\n",
    "- A mensagem \"Reprovado\", se a média for menor do que sete;\n",
    "- A mensagem \"Aprovado com Distinção\", se a média for igual a dez."
   ]
  },
  {
   "cell_type": "code",
   "execution_count": 24,
   "metadata": {},
   "outputs": [
    {
     "name": "stdout",
     "output_type": "stream",
     "text": [
      "Digite o valor da primeira nota: 5\n",
      "Digite o valor da segunda nota: 4\n",
      "Média 4.5 - Reprovado\n"
     ]
    }
   ],
   "source": [
    "n1 = input('Digite o valor da primeira nota: ')\n",
    "n2 = input('Digite o valor da segunda nota: ')\n",
    "\n",
    "media = (int(n1) + int(n2)) / 2\n",
    "\n",
    "if media >= 7 and media < 10:     \n",
    "    print (f'Média {media} - Aprovado') \n",
    "elif media == 10:\n",
    "    print (f'Média {media} - Aprovado com Distinção')\n",
    "else:\n",
    "    print (f'Média {media} - Reprovado')"
   ]
  },
  {
   "cell_type": "markdown",
   "metadata": {},
   "source": [
    "4 - Faça um Programa que leia três números e mostre-os em ordem decrescente."
   ]
  },
  {
   "cell_type": "code",
   "execution_count": 32,
   "metadata": {},
   "outputs": [
    {
     "name": "stdout",
     "output_type": "stream",
     "text": [
      "Digite um valor: 4\n",
      "Digite um valor: 5\n",
      "Digite um valor: 6\n",
      "['6', '5', '4']\n"
     ]
    }
   ],
   "source": [
    "lista = []\n",
    "i = 0\n",
    "while i < 3:\n",
    "    x = input('Digite um valor: ')\n",
    "    lista.append(x)\n",
    "    i += 1\n",
    "lista.sort(reverse=True)\n",
    "print(lista)"
   ]
  },
  {
   "cell_type": "markdown",
   "metadata": {},
   "source": [
    "5 - As Organizações Tabajara resolveram dar um aumento de salário aos seus\n",
    "colaboradores e lhe contrataram para desenvolver o programa que calculará os\n",
    "reajustes.\n",
    "Faça um programa que recebe o salário de um colaborador e o reajuste segundo o\n",
    "seguinte critério, baseado no salário atual:\n",
    "- salários até R$ 280,00 (incluindo) : aumento de 20%\n",
    "- salários entre R$ 280,00 e R$ 700,00 : aumento de 15%\n",
    "- salários entre R$ 700,00 e R$ 1500,00 : aumento de 10%\n",
    "- salários de R$ 1500,00 em diante : aumento de 5% Após o aumento ser realizado,\n",
    "informe na tela:\n",
    "- o salário antes do reajuste;\n",
    "- o percentual de aumento aplicado;\n",
    "- o valor do aumento;\n",
    "- o novo salário, após o aumento."
   ]
  },
  {
   "cell_type": "code",
   "execution_count": 38,
   "metadata": {},
   "outputs": [
    {
     "name": "stdout",
     "output_type": "stream",
     "text": [
      "Digite o valor do salario: R$ 1200\n",
      "Percentual aumentado: % 10\n",
      "O valor do aumento é: R$ 120.0\n",
      "Com o reajuste, o seu salário é: R$ 1320.0\n"
     ]
    }
   ],
   "source": [
    "salario = int(input('Digite o valor do salario: R$ '))\n",
    "\n",
    "if salario <= 280:\n",
    "      por = (20 / 100.0) * salario\n",
    "      resultado = salario + por\n",
    "      print ('Percentual aumentado: %',20)\n",
    "      print ('O valor do aumento é: R$',por)\n",
    "      print ('Com o reajuste, o seu salário é: R$',resultado)\n",
    "\n",
    "#Se o salario é maior que 280 e menor que 700\n",
    "\n",
    "elif salario > 280.00 and salario <= 700.00:\n",
    "        por = (15 / 100.0) * salario\n",
    "        resultado = salario + por\n",
    "        print ('Percentual aumentado: %',15)\n",
    "        print ('O valor do aumento é: R$',por)\n",
    "        print ('Com o reajuste, o seu salário é: R$',resultado)\n",
    "\n",
    "#Se o salario é maior que 700 e menor que 1500\n",
    "\n",
    "elif salario > 700.00 and salario <= 1500.00:\n",
    "        por = (10 / 100.0) * salario\n",
    "        resultado = salario + por\n",
    "        print ('Percentual aumentado: %',10)\n",
    "        print ('O valor do aumento é: R$',por)\n",
    "        print ('Com o reajuste, o seu salário é: R$',resultado)\n",
    "\n",
    "#Se o salario é maior que 1500\n",
    "\n",
    "elif salario > 1500.00:\n",
    "        por = (5 / 100.0) * salario\n",
    "        resultado = salario + por\n",
    "        print ('Percentual aumentado: %',5)\n",
    "        print ('O valor do aumento é: R$',por)\n",
    "        print ('Com o reajuste, o seu salário é: R$',resultado)"
   ]
  },
  {
   "cell_type": "markdown",
   "metadata": {},
   "source": [
    "6 - Faça um Programa que leia um número e exiba o dia correspondente da semana.\n",
    "(1-Domingo, 2- Segunda, etc.), se digitar outro valor deve aparecer valor inválido."
   ]
  },
  {
   "cell_type": "code",
   "execution_count": 40,
   "metadata": {},
   "outputs": [
    {
     "name": "stdout",
     "output_type": "stream",
     "text": [
      "Digite o número do dia desejado: 9\n",
      "Você digitou um número inválido\n"
     ]
    }
   ],
   "source": [
    "dia = int(input('Digite o número do dia desejado: '))\n",
    "if dia == 1:\n",
    "    print('Você digitou o dia referente à Domingo')\n",
    "elif dia == 2:\n",
    "    print('Você digitou o dia referente à Segunda-Feira')\n",
    "elif dia == 3:\n",
    "    print('Você digitou o dia referente à Terça-Feira')\n",
    "elif dia == 4:\n",
    "    print('Você digitou o dia referente à Quarta-Feira')\n",
    "elif dia == 5:\n",
    "    print('Você digitou o dia referente à Quinta-Feira')\n",
    "elif dia == 6:\n",
    "    print('Você digitou o dia referente à Sexta-Feira')\n",
    "elif dia == 7:\n",
    "    print('Você digitou o dia referente à Sábado')\n",
    "else:\n",
    "    print('Você digitou um número inválido')"
   ]
  },
  {
   "cell_type": "markdown",
   "metadata": {},
   "source": [
    "7 - Faça um programa que lê as duas notas parciais obtidas por um aluno numa\n",
    "disciplina ao longo de um semestre, e calcule a sua média. A atribuição de conceitos\n",
    "obedece à tabela abaixo:\n",
    " Média de Aproveitamento Conceito\n",
    " Entre 9.0 e 10.0 A\n",
    " Entre 7.5 e 9.0 B\n",
    " Entre 6.0 e 7.5 C\n",
    " Entre 4.0 e 6.0 D\n",
    " Entre 4.0 e zero E\n",
    "O algoritmo deve mostrar na tela as notas, a média, o conceito correspondente e a\n",
    "mensagem “APROVADO” se o conceito for A, B ou C ou “REPROVADO” se o conceito\n",
    "for D ou E."
   ]
  },
  {
   "cell_type": "code",
   "execution_count": 50,
   "metadata": {},
   "outputs": [
    {
     "name": "stdout",
     "output_type": "stream",
     "text": [
      "Digite o valor da primeira nota: 5\n",
      "Digite o valor da primeira nota: 4\n",
      "Média do aluno: 4.5\n",
      "Conceito do aluno: D\n",
      "Status do aluno: Aprovado\n"
     ]
    }
   ],
   "source": [
    "n1 = int(input('Digite o valor da primeira nota: '))\n",
    "n2 = int(input('Digite o valor da primeira nota: '))\n",
    "media = ((n1 + n2)/2)\n",
    "\n",
    "#Seta o Conceito \n",
    "if media >= 9:\n",
    "    conceito = \"A\"\n",
    "elif media >= 7.5 and media < 9:\n",
    "    conceito = \"B\"\n",
    "elif media >= 6 and media < 7.5:\n",
    "    conceito = \"C\"\n",
    "elif media >= 4 and media <6:\n",
    "    conceito = \"D\"\n",
    "else:\n",
    "    conceito = \"E\"\n",
    "    \n",
    "#Seta o Status    \n",
    "if conceito == \"A\" or \"B\" or \"C\":\n",
    "    status = \"Aprovado\"\n",
    "else:\n",
    "    status = \"Reprovado\"\n",
    "    \n",
    "print(f\"Média do aluno: {media}\")\n",
    "print(f\"Conceito do aluno: {conceito}\")\n",
    "print(f\"Status do aluno: {status}\")"
   ]
  },
  {
   "cell_type": "markdown",
   "metadata": {},
   "source": [
    "8 - Faça um Programa que peça os 3 lados de um triângulo. O programa deverá\n",
    "informar se os valores podem ser um triângulo. Indique, caso os lados formem um\n",
    "triângulo, se o mesmo é: equilátero, isósceles ou escaleno.\n",
    "Dicas:\n",
    "- Três lados formam um triângulo quando a soma de quaisquer dois lados for maior\n",
    "que o terceiro;\n",
    "- Triângulo Equilátero: três lados iguais;\n",
    "- Triângulo Isósceles: quaisquer dois lados iguais;\n",
    "- Triângulo Escaleno: três lados diferentes;"
   ]
  },
  {
   "cell_type": "code",
   "execution_count": null,
   "metadata": {},
   "outputs": [],
   "source": [
    "a = int(input('Digite o valor para o lado a: '))\n",
    "b = int(input('Digite o valor para o lado b: '))\n",
    "c = int(input('Digite o valor para o lado c: '))\n",
    "\n",
    "#Verifica se é um triângulo\n",
    "if a + b > c and a + c > b and b + c > a:\n",
    "    #Verifica se é Equilátero\n",
    "    if a == b or a == c or b == c:\n",
    "        print('O Triângulo é Isósceles')\n",
    "        #Verifica se é Isósceles\n",
    "        if a == b and b == c:\n",
    "            print('O Triângulo também é Equilátero')\n",
    "    else:\n",
    "        print('O Triângulo é Escaleno')\n",
    "else:\n",
    "    print('Os valores digitados não formam um triângulo')"
   ]
  },
  {
   "cell_type": "markdown",
   "metadata": {},
   "source": [
    "9 - Faça um programa que calcule as raízes de uma equação do segundo grau, na\n",
    "forma ax2 + bx + c. O programa deverá pedir os valores de a, b e c e fazer as\n",
    "consistências, informando ao usuário nas seguintes situações:\n",
    "- Se o usuário informar o valor de A igual a zero, a equação não é do segundo grau e\n",
    "o programa não deve fazer pedir os demais valores, sendo encerrado;\n",
    "- Se o delta calculado for negativo, a equação não possui raizes reais. Informe ao\n",
    "usuário e encerre o programa;\n",
    "- Se o delta calculado for igual a zero a equação possui apenas uma raiz real;\n",
    "informe-a ao usuário;\n",
    "- Se o delta for positivo, a equação possui duas raiz reais; informe-as ao usuário;\n"
   ]
  },
  {
   "cell_type": "code",
   "execution_count": 9,
   "metadata": {},
   "outputs": [
    {
     "name": "stdout",
     "output_type": "stream",
     "text": [
      "Digite o valor para a: 1\n",
      "Digite o valor para b: 4\n",
      "Digite o valor para c: 4\n",
      "A equação possui uma única raíz\n",
      "-2.0\n"
     ]
    }
   ],
   "source": [
    "import math\n",
    "a = int(input('Digite o valor para a: '))\n",
    "b = int(input('Digite o valor para b: '))\n",
    "c = int(input('Digite o valor para c: '))\n",
    "delta = 0\n",
    "#Verifica o valor de a\n",
    "if a == 0:\n",
    "    print(' equação não é do segundo grau')\n",
    "else:\n",
    "    delta = math.pow(b,2) - (4 * a *c)\n",
    "    if delta < 0:\n",
    "        print('A esquação não possui raízes')\n",
    "    else:\n",
    "        if delta == 0:\n",
    "            print('A equação possui uma única raíz')\n",
    "            r = ((-1)*b + math.sqrt(delta))/(2*a)\n",
    "            print(r)\n",
    "        else:\n",
    "            print (\"delta = \",delta,\" a equacao possui duas raizes\")\n",
    "            r1 = ((-1)*b + math.sqrt(delta))/(2*a)\n",
    "            r2 = ((-1)*b - math.sqrt(delta))/(2*a)\n",
    "            print (\"raiz1 da equacao = \", r1)\n",
    "            print (\"raiz2 da equacao = \", r2)\n",
    "    \n",
    "    "
   ]
  },
  {
   "cell_type": "markdown",
   "metadata": {},
   "source": [
    "10 - Faça um Programa para um caixa eletrônico. O programa deverá perguntar ao\n",
    "usuário a valor do saque e depois informar quantas notas de cada valor serão\n",
    "fornecidas. As notas disponíveis serão as de 1, 5, 10, 50 e 100 reais. O valor mínimo é\n",
    "de 10 reais e o máximo de 600 reais. O programa não deve se preocupar com a\n",
    "quantidade de notas existentes na máquina.\n",
    "- Exemplo 1: Para sacar a quantia de 256 reais, o programa fornece duas notas de\n",
    "100, uma nota de 50, uma nota de 5 e uma nota de 1;\n",
    "- Exemplo 2: Para sacar a quantia de 399 reais, o programa fornece três notas de\n",
    "100, uma nota de 50, quatro notas de 10, uma nota de 5 e quatro notas de 1.\n"
   ]
  },
  {
   "cell_type": "code",
   "execution_count": 1,
   "metadata": {},
   "outputs": [
    {
     "name": "stdout",
     "output_type": "stream",
     "text": [
      "Digite o valor a ser sacado: 1111\n",
      "0\n",
      "Nota de 100: 11\n",
      "Nota de 50: 0\n",
      "Nota de 10: 1\n",
      "Nota de 5: 0\n",
      "Nota de 1: 1\n"
     ]
    }
   ],
   "source": [
    "valor = int(input('Digite o valor a ser sacado: '))\n",
    "nota1 = 0\n",
    "nota5 = 0\n",
    "nota10 = 0\n",
    "nota50 = 0\n",
    "nota100 = 0\n",
    "\n",
    "nota100 = valor // 100\n",
    "valor -= nota100 * 100\n",
    "\n",
    "nota50 = valor // 50\n",
    "valor -= nota50 * 50\n",
    "\n",
    "nota10 = valor // 10\n",
    "valor -= nota10 * 10\n",
    "\n",
    "nota5 = valor // 5\n",
    "valor -= nota5 * 5\n",
    "\n",
    "nota1 = valor // 1\n",
    "valor -= nota1 * 1\n",
    "\n",
    "print (valor)\n",
    "    \n",
    "    \n",
    "        \n",
    "print(f'Nota de 100: {nota100}')  \n",
    "print(f'Nota de 50: {nota50}')\n",
    "print(f'Nota de 10: {nota10}')\n",
    "print(f'Nota de 5: {nota5}')\n",
    "print(f'Nota de 1: {nota1}')\n",
    "    \n",
    "    \n"
   ]
  },
  {
   "cell_type": "markdown",
   "metadata": {},
   "source": [
    "11 - Faça um programa que faça 5 perguntas para uma pessoa sobre um crime. As\n",
    "perguntas são:\n",
    "\"Telefonou para a vítima?\"\n",
    "\"Esteve no local do crime?\"\n",
    "\"Mora perto da vítima?\"\n",
    "\"Devia para a vítima?\"\n",
    "\"Já trabalhou com a vítima?\"\n",
    "O programa deve no final emitir uma classificação sobre a participação da pessoa no\n",
    "crime. Se a pessoa responder positivamente a 2 questões ela deve ser classificada\n",
    "como \"Suspeita\", entre 3 e 4 como \"Cúmplice\" e 5 como \"Assassino\". Caso contrário,\n",
    "ele será classificado como \"Inocente\""
   ]
  },
  {
   "cell_type": "code",
   "execution_count": 14,
   "metadata": {},
   "outputs": [
    {
     "name": "stdout",
     "output_type": "stream",
     "text": [
      "Responda SIM ou ou NAO\n",
      "Você telefonou para a vítima? SIM\n",
      "Esteve no local do crime? IM\n",
      "Mora perto da vítima? SIM\n",
      "Devia para a vítima? SIM\n",
      "Já trabalhou com a vítima? SIM\n",
      "O entrevistado é: Cumplice\n"
     ]
    }
   ],
   "source": [
    "print('Responda SIM ou ou NAO')\n",
    "\n",
    "x1 = input('Você telefonou para a vítima? ')\n",
    "x2 = input('Esteve no local do crime? ')\n",
    "x3 = input('Mora perto da vítima? ')\n",
    "x4 = input('Devia para a vítima? ')\n",
    "x5 = input('Já trabalhou com a vítima? ')\n",
    "classificacao = 'Inocente'\n",
    "\n",
    "#Verifica a classiicação\n",
    "if x2 == 'SIM':\n",
    "    classificacao = \"Suspeita\"\n",
    "elif x3 == 'SIM' and x4 == 'SIM':\n",
    "    classificacao = 'Cumplice'\n",
    "elif x5 == 'SIM':\n",
    "    classificacao = 'Assasino'\n",
    "\n",
    "    \n",
    "print(f'O entrevistado é: {classificacao}')"
   ]
  },
  {
   "cell_type": "markdown",
   "metadata": {},
   "source": [
    "12 - Uma fruteira está vendendo frutas com a seguinte tabela de preços:\n",
    " Até 5 Kg Acima de 5 Kg\n",
    "Morango R$ 2,50 por Kg R$ 2,20 por Kg\n",
    "Maçã R$ 1,80 por Kg R$ 1,50 por Kg\n",
    "Se o cliente comprar mais de 8 Kg em frutas ou o valor total da compra ultrapassar\n",
    "R$ 25,00, receberá ainda um desconto de 10% sobre este total. Escreva um\n",
    "algoritmo para ler a quantidade (em Kg) de morangos e a quantidade (em Kg) de\n",
    "maças adquiridas e escreva o valor a ser pago pelo cliente"
   ]
  },
  {
   "cell_type": "code",
   "execution_count": null,
   "metadata": {},
   "outputs": [],
   "source": []
  },
  {
   "cell_type": "markdown",
   "metadata": {},
   "source": [
    "13 - Faça um programa que peça uma nota, entre zero e dez. Mostre uma mensagem\n",
    "caso o valor seja inválido e continue pedindo até que o usuário informe um valor\n",
    "válido."
   ]
  },
  {
   "cell_type": "code",
   "execution_count": 10,
   "metadata": {},
   "outputs": [
    {
     "name": "stdout",
     "output_type": "stream",
     "text": [
      "Digite um valor: 11\n",
      "Valor incorreto.\n",
      "Digite um valor: -1\n",
      "Valor incorreto.\n",
      "Digite um valor: 1\n",
      "Valor aceito!\n"
     ]
    }
   ],
   "source": [
    "condicional = True\n",
    "while condicional:\n",
    "    valor = int(input('Digite um valor: '))\n",
    "    if (valor >= 0 and valor <= 10):\n",
    "        print('Valor aceito!')\n",
    "        condicional = False     \n",
    "    else:\n",
    "        print('Valor incorreto.')"
   ]
  },
  {
   "cell_type": "markdown",
   "metadata": {},
   "source": [
    "14 - Faça um programa que leia e valide as seguintes informações:\n",
    "Nome: maior que 3 caracteres;\n",
    "Idade: entre 0 e 150;\n",
    "Salário: maior que zero;\n",
    "Sexo: 'f' ou 'm';\n",
    "Estado Civil: 's', 'c', 'v', 'd';\n"
   ]
  },
  {
   "cell_type": "code",
   "execution_count": 15,
   "metadata": {},
   "outputs": [
    {
     "name": "stdout",
     "output_type": "stream",
     "text": [
      "Digite seu nome: Lucas\n",
      "Nome válido!\n",
      "Digite a sua idade: 23\n",
      "Idade válida!\n",
      "Digite o seu salario: 1300\n",
      "Salário válido!\n",
      "Digite o sexo -> f para feminino | m para masculino: m\n",
      "Sexo válido!\n",
      "Digite o estado civil -> s para solteiro | c para casado: | v para viúvo | d para divorciados\n",
      "Estado Civil válido!\n"
     ]
    }
   ],
   "source": [
    "#Nome\n",
    "nome = input('Digite seu nome: ')\n",
    "if len(nome) > 3 :\n",
    "    print('Nome válido!')\n",
    "else:\n",
    "     print('Nome inválido.')\n",
    "        \n",
    "#Idade\n",
    "idade = int(input('Digite a sua idade: '))\n",
    "if idade > 0 and idade <= 150:\n",
    "    print('Idade válida!')\n",
    "else: \n",
    "    print('Idade inválida.')\n",
    "    \n",
    "#Salário\n",
    "salario = float(input('Digite o seu salario: '))\n",
    "if salario > 0:\n",
    "    print('Salário válido!')\n",
    "else:\n",
    "    print('Salario inválido.')\n",
    "    \n",
    "#Sexo \n",
    "sexo = input('Digite o sexo -> f para feminino | m para masculino: ').lower()\n",
    "if sexo == 'm' or sexo =='f':\n",
    "    print('Sexo válido!')\n",
    "else:\n",
    "    print('Sexo inválido.')\n",
    "\n",
    "#Estado Civil    \n",
    "estado_civil = input('Digite o estado civil -> s para solteiro | c para casado: | v para viúvo | d para divorciado').lower()\n",
    "if estado_civil == 's' or estado_civil == 'c' or estado_civil == 'v' or estado_civil == 'd':\n",
    "    print('Estado Civil válido!')\n",
    "else:\n",
    "    print('Estado Civil inválido.')\n",
    "    \n",
    "\n"
   ]
  },
  {
   "cell_type": "markdown",
   "metadata": {},
   "source": [
    "15 - Faça um programa que leia 5 números e informe o maior número."
   ]
  },
  {
   "cell_type": "code",
   "execution_count": 21,
   "metadata": {},
   "outputs": [
    {
     "name": "stdout",
     "output_type": "stream",
     "text": [
      "Digite um número: 60\n",
      "Digite um número: 55\n",
      "Digite um número: 44\n",
      "Digite um número: 10\n",
      "Digite um número: 11\n",
      "O maior número digitado é:  60\n"
     ]
    }
   ],
   "source": [
    "lista = []\n",
    "\n",
    "i= 0\n",
    "while i < 5:\n",
    "    x = int(input('Digite um número: '))\n",
    "    lista.append(x)\n",
    "    i += 1\n",
    "    \n",
    "print('O maior número digitado é: ', max(lista))\n"
   ]
  },
  {
   "cell_type": "markdown",
   "metadata": {},
   "source": [
    "16 - Faça um programa que leia 5 números e informe a soma e a média dos números."
   ]
  },
  {
   "cell_type": "code",
   "execution_count": 24,
   "metadata": {},
   "outputs": [
    {
     "name": "stdout",
     "output_type": "stream",
     "text": [
      "Digite um número: 10\n",
      "Digite um número: 20\n",
      "Digite um número: 30\n",
      "Digite um número: 40\n",
      "Digite um número: 50\n",
      "Soma: 150\n",
      "Média: 30.0\n"
     ]
    }
   ],
   "source": [
    "lista = []\n",
    "soma = 0\n",
    "media = 0\n",
    "i= 0\n",
    "while i < 5:\n",
    "    x = int(input('Digite um número: '))\n",
    "    lista.append(x)\n",
    "    i += 1\n",
    "for numero in lista:\n",
    "    soma += numero\n",
    "media = (soma / 5)\n",
    "print(f'Soma: {soma}')\n",
    "print(f'Média: {media}')"
   ]
  },
  {
   "cell_type": "markdown",
   "metadata": {},
   "source": [
    "17 - Faça um programa que imprima na tela apenas os números ímpares entre 1 e 50."
   ]
  },
  {
   "cell_type": "code",
   "execution_count": 29,
   "metadata": {},
   "outputs": [
    {
     "name": "stdout",
     "output_type": "stream",
     "text": [
      "[1, 3, 5, 7, 9, 11, 13, 15, 17, 19, 21, 23, 25, 27, 29, 31, 33, 35, 37, 39, 41, 43, 45, 47, 49]\n"
     ]
    }
   ],
   "source": [
    "lista = []\n",
    "i = 1 \n",
    "while i <= 50:    \n",
    "    if(i % 2 == 1):\n",
    "        lista.append(i)\n",
    "    i += 1\n",
    "        \n",
    "print(lista)"
   ]
  },
  {
   "cell_type": "markdown",
   "metadata": {},
   "source": [
    "18 - A série de Fibonacci é formada pela seqüência 1,1,2,3,5,8,13,21,34,55,... Faça um\n",
    "programa capaz de gerar a série até o n−ésimo termo."
   ]
  },
  {
   "cell_type": "code",
   "execution_count": 39,
   "metadata": {},
   "outputs": [
    {
     "name": "stdout",
     "output_type": "stream",
     "text": [
      "Digite o número de termos: 100\n",
      "1\n",
      "1\n",
      "2\n",
      "3\n",
      "5\n",
      "8\n",
      "13\n",
      "21\n",
      "34\n",
      "55\n",
      "89\n"
     ]
    }
   ],
   "source": [
    "n = int(input(\"Digite o número de termos: \"))\n",
    "a, b = 0, 1\n",
    "while b < n:\n",
    "       print (b)\n",
    "       a, b = b, a+b\n"
   ]
  },
  {
   "cell_type": "markdown",
   "metadata": {},
   "source": [
    "19 - Faça um programa que calcule o fatorial de um número inteiro fornecido pelo\n",
    "usuário. Ex.: 5!=5.4.3.2.1=120"
   ]
  },
  {
   "cell_type": "code",
   "execution_count": 10,
   "metadata": {},
   "outputs": [
    {
     "name": "stdout",
     "output_type": "stream",
     "text": [
      "Informe o número de termos desejados para realizar a fatorial: 6\n",
      "Fatorial de 6 = 720\n"
     ]
    }
   ],
   "source": [
    "n = int(input('Informe o número de termos desejados para realizar a fatorial: '))\n",
    "i = 1\n",
    "fatorial = 1\n",
    "while i <= n:\n",
    "    fatorial = fatorial * i\n",
    "    i += 1\n",
    "print(f'Fatorial de {n} = {fatorial}')"
   ]
  },
  {
   "cell_type": "markdown",
   "metadata": {},
   "source": [
    "20 - O Sr. Manoel Joaquim acaba de adquirir uma panificadora e pretende implantar\n",
    "a metodologia da tabelinha, que já é um sucesso na sua loja de 1,99. Você foi\n",
    "contratado para desenvolver o programa que monta a tabela de preços de pães, de\n",
    "1 até 50 pães, a partir do preço do pão informado pelo usuário, conforme o exemplo\n",
    "abaixo:\n",
    "Preço do pão: R$ 0.18\n",
    "Panificadora Pão de Ontem - Tabela de preços\n",
    "1 - R$ 0.18\n",
    "2 - R$ 0.36\n",
    "...\n",
    "50 - R$ 9.00"
   ]
  },
  {
   "cell_type": "code",
   "execution_count": 19,
   "metadata": {},
   "outputs": [
    {
     "name": "stdout",
     "output_type": "stream",
     "text": [
      "Qtd 1 = R$  1.99\n",
      "Qtd 2 = R$  3.98\n",
      "Qtd 3 = R$  5.97\n",
      "Qtd 4 = R$  7.96\n",
      "Qtd 5 = R$  9.95\n",
      "Qtd 6 = R$ 11.94\n",
      "Qtd 7 = R$ 13.93\n",
      "Qtd 8 = R$ 15.92\n",
      "Qtd 9 = R$ 17.91\n",
      "Qtd 10 = R$ 19.90\n",
      "Qtd 11 = R$ 21.89\n",
      "Qtd 12 = R$ 23.88\n",
      "Qtd 13 = R$ 25.87\n",
      "Qtd 14 = R$ 27.86\n",
      "Qtd 15 = R$ 29.85\n",
      "Qtd 16 = R$ 31.84\n",
      "Qtd 17 = R$ 33.83\n",
      "Qtd 18 = R$ 35.82\n",
      "Qtd 19 = R$ 37.81\n",
      "Qtd 20 = R$ 39.80\n",
      "Qtd 21 = R$ 41.79\n",
      "Qtd 22 = R$ 43.78\n",
      "Qtd 23 = R$ 45.77\n",
      "Qtd 24 = R$ 47.76\n",
      "Qtd 25 = R$ 49.75\n",
      "Qtd 26 = R$ 51.74\n",
      "Qtd 27 = R$ 53.73\n",
      "Qtd 28 = R$ 55.72\n",
      "Qtd 29 = R$ 57.71\n",
      "Qtd 30 = R$ 59.70\n",
      "Qtd 31 = R$ 61.69\n",
      "Qtd 32 = R$ 63.68\n",
      "Qtd 33 = R$ 65.67\n",
      "Qtd 34 = R$ 67.66\n",
      "Qtd 35 = R$ 69.65\n",
      "Qtd 36 = R$ 71.64\n",
      "Qtd 37 = R$ 73.63\n",
      "Qtd 38 = R$ 75.62\n",
      "Qtd 39 = R$ 77.61\n",
      "Qtd 40 = R$ 79.60\n",
      "Qtd 41 = R$ 81.59\n",
      "Qtd 42 = R$ 83.58\n",
      "Qtd 43 = R$ 85.57\n",
      "Qtd 44 = R$ 87.56\n",
      "Qtd 45 = R$ 89.55\n",
      "Qtd 46 = R$ 91.54\n",
      "Qtd 47 = R$ 93.53\n",
      "Qtd 48 = R$ 95.52\n",
      "Qtd 49 = R$ 97.51\n",
      "Qtd 50 = R$ 99.50\n"
     ]
    }
   ],
   "source": [
    "i = 1\n",
    "while i <= 50:\n",
    "    print(f'Qtd {i} = R$ %5.2f' % (i* 1.99))\n",
    "    i += 1"
   ]
  },
  {
   "cell_type": "markdown",
   "metadata": {},
   "source": [
    "21 - O Sr. Manoel Joaquim possui uma grande loja de artigos de R$ 1,99, com cerca\n",
    "de 10 caixas. Para agilizar o cálculo de quanto cada cliente deve pagar ele\n",
    "desenvolveu um tabela que contém o número de itens que o cliente comprou e ao\n",
    "lado o valor da conta. Desta forma a atendente do caixa precisa apenas contar\n",
    "quantos itens o cliente está levando e olhar na tabela de preços. Você foi contratado\n",
    "para desenvolver o programa que monta esta tabela de preços, que conterá os\n",
    "preços de 1 até 50 produtos, conforme o exemplo abaixo:\n",
    "Lojas Quase Dois - Tabela de preços\n",
    "1 - R$ 1.99\n",
    "2 - R$ 3.98\n",
    "...\n",
    "50 - R$ 99.50"
   ]
  },
  {
   "cell_type": "code",
   "execution_count": 20,
   "metadata": {},
   "outputs": [
    {
     "name": "stdout",
     "output_type": "stream",
     "text": [
      "Informe o valor de pães desejado: 2\n",
      "Qtd 1 = R$  2.00\n",
      "Qtd 2 = R$  4.00\n",
      "Qtd 3 = R$  6.00\n",
      "Qtd 4 = R$  8.00\n",
      "Qtd 5 = R$ 10.00\n",
      "Qtd 6 = R$ 12.00\n",
      "Qtd 7 = R$ 14.00\n",
      "Qtd 8 = R$ 16.00\n",
      "Qtd 9 = R$ 18.00\n",
      "Qtd 10 = R$ 20.00\n",
      "Qtd 11 = R$ 22.00\n",
      "Qtd 12 = R$ 24.00\n",
      "Qtd 13 = R$ 26.00\n",
      "Qtd 14 = R$ 28.00\n",
      "Qtd 15 = R$ 30.00\n",
      "Qtd 16 = R$ 32.00\n",
      "Qtd 17 = R$ 34.00\n",
      "Qtd 18 = R$ 36.00\n",
      "Qtd 19 = R$ 38.00\n",
      "Qtd 20 = R$ 40.00\n",
      "Qtd 21 = R$ 42.00\n",
      "Qtd 22 = R$ 44.00\n",
      "Qtd 23 = R$ 46.00\n",
      "Qtd 24 = R$ 48.00\n",
      "Qtd 25 = R$ 50.00\n",
      "Qtd 26 = R$ 52.00\n",
      "Qtd 27 = R$ 54.00\n",
      "Qtd 28 = R$ 56.00\n",
      "Qtd 29 = R$ 58.00\n",
      "Qtd 30 = R$ 60.00\n",
      "Qtd 31 = R$ 62.00\n",
      "Qtd 32 = R$ 64.00\n",
      "Qtd 33 = R$ 66.00\n",
      "Qtd 34 = R$ 68.00\n",
      "Qtd 35 = R$ 70.00\n",
      "Qtd 36 = R$ 72.00\n",
      "Qtd 37 = R$ 74.00\n",
      "Qtd 38 = R$ 76.00\n",
      "Qtd 39 = R$ 78.00\n",
      "Qtd 40 = R$ 80.00\n",
      "Qtd 41 = R$ 82.00\n",
      "Qtd 42 = R$ 84.00\n",
      "Qtd 43 = R$ 86.00\n",
      "Qtd 44 = R$ 88.00\n",
      "Qtd 45 = R$ 90.00\n",
      "Qtd 46 = R$ 92.00\n",
      "Qtd 47 = R$ 94.00\n",
      "Qtd 48 = R$ 96.00\n",
      "Qtd 49 = R$ 98.00\n",
      "Qtd 50 = R$ 100.00\n"
     ]
    }
   ],
   "source": [
    "valor = float(input('Informe o valor de pães desejado: '))\n",
    "i = 1\n",
    "while i <= 50:\n",
    "    print(f'Qtd {i} = R$ %5.2f' % (i* valor))\n",
    "    i += 1"
   ]
  },
  {
   "cell_type": "markdown",
   "metadata": {},
   "source": [
    "22 - O Sr. Manoel Joaquim expandiu seus negócios para além dos negócios de 1,99 e\n",
    "agora possui uma loja de conveniências. Faça um programa que implemente uma\n",
    "caixa registradora rudimentar. O programa deverá receber um número\n",
    "desconhecido de valores referentes aos preços das mercadorias. Um valor zero deve\n",
    "ser informado pelo operador para indicar o final da compra. O programa deve então\n",
    "mostrar o total da compra e perguntar o valor em dinheiro que o cliente forneceu,\n",
    "para então calcular e mostrar o valor do troco. Após esta operação, o programa\n",
    "deverá voltar ao ponto inicial, para registrar a próxima compra. A saída deve ser\n",
    "conforme o exemplo abaixo:\n",
    "Lojas Tabajara\n",
    "Produto 1: R$ 2.20\n",
    "Produto 2: R$ 5.80\n",
    "Produto 3: R$ 0\n",
    "Total: R$ 9.00\n",
    "Dinheiro: R$ 20.00\n",
    "Troco: R$ 11.00\n",
    "..."
   ]
  },
  {
   "cell_type": "code",
   "execution_count": null,
   "metadata": {},
   "outputs": [
    {
     "name": "stdout",
     "output_type": "stream",
     "text": [
      "....::::Iniciando Nova venda:::::....\n",
      "Digite 0 para finalizar a venda\n",
      "\n",
      "Informe o valor do produto: 5\n",
      "Informe o valor do produto: 3\n",
      "Informe o valor do produto: 7\n",
      "Informe o valor do produto: 9\n",
      "Informe o valor do produto: 3\n",
      "Informe o valor do produto: 0\n",
      "\n",
      "\n",
      "Calculando Venda ...\n",
      "Produto 1 = R$  5.00\n",
      "Produto 2 = R$  3.00\n",
      "Produto 3 = R$  7.00\n",
      "Produto 4 = R$  9.00\n",
      "Produto 5 = R$  3.00\n",
      "\n",
      "Total à pagar: R$ 27.0\n",
      "Informe o valor pago ao caixa: 30\n",
      "\n",
      "\n",
      "Troco: R$ 3.0\n",
      "\n",
      "Caixa finalizado!\n",
      "\n",
      "....::::Iniciando Nova venda:::::....\n"
     ]
    }
   ],
   "source": [
    "produtos = []\n",
    "total = 0\n",
    "print('....::::Iniciando Nova venda:::::....')\n",
    "print('Digite 0 para finalizar a venda\\n')\n",
    "while True:    \n",
    "    valor = float(input('Informe o valor do produto: '))\n",
    "    if valor != 0:\n",
    "        produtos.append(valor)\n",
    "    else:\n",
    "        print('\\n\\nCalculando Venda ...')\n",
    "        if len(produtos) == 0:\n",
    "            print('Lista de Vazia!')\n",
    "        else:\n",
    "            i = 1\n",
    "            for produto in produtos:\n",
    "                print(f'Produto {i} = R$ %5.2f' % (produto))\n",
    "                total += produto                        \n",
    "                i += 1  \n",
    "        print(f'\\nTotal à pagar: R$ {total}')  \n",
    "        pago = float(input('Informe o valor pago ao caixa: '))\n",
    "        troco = pago - total\n",
    "        print(f'\\n\\nTroco: R$ {troco}')\n",
    "        print('\\nCaixa finalizado!\\n\\n....::::Iniciando Nova venda:::::....')\n",
    "        produtos.clear()\n"
   ]
  },
  {
   "cell_type": "markdown",
   "metadata": {},
   "source": [
    "23 -  Foi feita uma estatística em cinco cidades brasileiras para coletar dados sobre\n",
    "acidentes de trânsito. Foram obtidos os seguintes dados:\n",
    "- Código da cidade;\n",
    "- Número de veículos de passeio (em 1999);\n",
    "- Número de acidentes de trânsito com vítimas (em 1999). Deseja-se saber:\n",
    "- Qual o maior e menor índice de acidentes de transito e a que cidade pertence;\n",
    "- Qual a média de veículos nas cinco cidades juntas;\n",
    "- Qual a média de acidentes de trânsito nas cidades com menos de 2.000 veículos de\n",
    "passeio."
   ]
  },
  {
   "cell_type": "markdown",
   "metadata": {},
   "source": [
    "24 -  Faça um programa que receba o valor de uma dívida e mostre uma tabela com\n",
    "os seguintes dados: valor da dívida, valor dos juros, quantidade de parcelas e valor\n",
    "da parcela.\n",
    "Os juros e a quantidade de parcelas seguem a tabela abaixo:\n",
    "Quantidade de Parcelas % de Juros sobre o valor inicial da dívida"
   ]
  },
  {
   "cell_type": "code",
   "execution_count": 6,
   "metadata": {},
   "outputs": [
    {
     "name": "stdout",
     "output_type": "stream",
     "text": [
      "Digite o valor da dívida: 1200\n",
      "Valor da Dívida: 1200.0 \tValor dos Juros: R$ 0.0 \tQtd. Parcelas: 0 \tValor da Parcela: R$ 1200.0\n",
      "Valor da Dívida: 1320.0 \tValor dos Juros: R$ 120.0 \tQtd. Parcelas: 3 \tValor da Parcela: R$ 440.0\n",
      "Valor da Dívida: 1380.0 \tValor dos Juros: R$ 180.0 \tQtd. Parcelas: 6 \tValor da Parcela: R$ 230.0\n",
      "Valor da Dívida: 1440.0 \tValor dos Juros: R$ 240.0 \tQtd. Parcelas: 9 \tValor da Parcela: R$ 160.0\n",
      "Valor da Dívida: 1500.0 \tValor dos Juros: R$ 300.0 \tQtd. Parcelas: 12 \tValor da Parcela: R$ 125.0\n"
     ]
    }
   ],
   "source": [
    "divida = float(input('Digite o valor da dívida: '))\n",
    "\n",
    "\n",
    "print(f'Valor da Dívida: {divida*1}', f'\\tValor dos Juros: R$ {0000.0}', '\\tQtd. Parcelas: 0', f'\\tValor da Parcela: R$ {divida}')\n",
    "print(f'Valor da Dívida: {divida*1.1}', f'\\tValor dos Juros: R$ {divida*0.1}', '\\tQtd. Parcelas: 3', f'\\tValor da Parcela: R$ {(divida*1.1)/3}')\n",
    "print(f'Valor da Dívida: {divida*1.15}', f'\\tValor dos Juros: R$ {divida*0.15}', '\\tQtd. Parcelas: 6', f'\\tValor da Parcela: R$ {(divida*1.15)/6}')\n",
    "print(f'Valor da Dívida: {divida*1.20}', f'\\tValor dos Juros: R$ {divida*0.20}', '\\tQtd. Parcelas: 9', f'\\tValor da Parcela: R$ {(divida*1.20)/9}')\n",
    "print(f'Valor da Dívida: {divida*1.25}', f'\\tValor dos Juros: R$ {divida*0.25}', '\\tQtd. Parcelas: 12', f'\\tValor da Parcela: R$ {(divida*1.25)/12}')"
   ]
  },
  {
   "cell_type": "markdown",
   "metadata": {},
   "source": [
    "25 - Faça um programa que mostre os n termos da Série a seguir:\n",
    " S = 1/1 + 2/3 + 3/5 + 4/7 + 5/9 + ... + n/m.\n",
    "Imprima no final a soma da série."
   ]
  },
  {
   "cell_type": "code",
   "execution_count": 14,
   "metadata": {},
   "outputs": [
    {
     "name": "stdout",
     "output_type": "stream",
     "text": [
      "Digite o termo desejado: 100\n",
      "S = 1/1\n",
      "S = 2/3\n",
      "S = 3/5\n",
      "S = 4/7\n",
      "S = 5/9\n",
      "S = 6/11\n",
      "S = 7/13\n",
      "S = 8/15\n",
      "S = 9/17\n",
      "S = 10/19\n",
      "S = 11/21\n",
      "S = 12/23\n",
      "S = 13/25\n",
      "S = 14/27\n",
      "S = 15/29\n",
      "S = 16/31\n",
      "S = 17/33\n",
      "S = 18/35\n",
      "S = 19/37\n",
      "S = 20/39\n",
      "S = 21/41\n",
      "S = 22/43\n",
      "S = 23/45\n",
      "S = 24/47\n",
      "S = 25/49\n",
      "S = 26/51\n",
      "S = 27/53\n",
      "S = 28/55\n",
      "S = 29/57\n",
      "S = 30/59\n",
      "S = 31/61\n",
      "S = 32/63\n",
      "S = 33/65\n",
      "S = 34/67\n",
      "S = 35/69\n",
      "S = 36/71\n",
      "S = 37/73\n",
      "S = 38/75\n",
      "S = 39/77\n",
      "S = 40/79\n",
      "S = 41/81\n",
      "S = 42/83\n",
      "S = 43/85\n",
      "S = 44/87\n",
      "S = 45/89\n",
      "S = 46/91\n",
      "S = 47/93\n",
      "S = 48/95\n",
      "S = 49/97\n",
      "S = 50/99\n",
      "S = 51/101\n",
      "S = 52/103\n",
      "S = 53/105\n",
      "S = 54/107\n",
      "S = 55/109\n",
      "S = 56/111\n",
      "S = 57/113\n",
      "S = 58/115\n",
      "S = 59/117\n",
      "S = 60/119\n",
      "S = 61/121\n",
      "S = 62/123\n",
      "S = 63/125\n",
      "S = 64/127\n",
      "S = 65/129\n",
      "S = 66/131\n",
      "S = 67/133\n",
      "S = 68/135\n",
      "S = 69/137\n",
      "S = 70/139\n",
      "S = 71/141\n",
      "S = 72/143\n",
      "S = 73/145\n",
      "S = 74/147\n",
      "S = 75/149\n",
      "S = 76/151\n",
      "S = 77/153\n",
      "S = 78/155\n",
      "S = 79/157\n",
      "S = 80/159\n",
      "S = 81/161\n",
      "S = 82/163\n",
      "S = 83/165\n",
      "S = 84/167\n",
      "S = 85/169\n",
      "S = 86/171\n",
      "S = 87/173\n",
      "S = 88/175\n",
      "S = 89/177\n",
      "S = 90/179\n",
      "S = 91/181\n",
      "S = 92/183\n",
      "S = 93/185\n",
      "S = 94/187\n",
      "S = 95/189\n",
      "S = 96/191\n",
      "S = 97/193\n",
      "S = 98/195\n",
      "S = 99/197\n",
      "S = 100/199\n",
      "Soma = 51.642171094650834\n"
     ]
    }
   ],
   "source": [
    "n = int(input('Digite o termo desejado: '))\n",
    "a, b = 1, 1\n",
    "soma = 0\n",
    "i = 0\n",
    "while i < n:\n",
    "      print(f'S = {a}/{b}')\n",
    "      soma += (a/b)\n",
    "      a += 1\n",
    "      b += 2\n",
    "      i += 1\n",
    "print(f'Soma = {soma}')      "
   ]
  },
  {
   "cell_type": "code",
   "execution_count": null,
   "metadata": {},
   "outputs": [],
   "source": []
  }
 ],
 "metadata": {
  "kernelspec": {
   "display_name": "Python 3",
   "language": "python",
   "name": "python3"
  },
  "language_info": {
   "codemirror_mode": {
    "name": "ipython",
    "version": 3
   },
   "file_extension": ".py",
   "mimetype": "text/x-python",
   "name": "python",
   "nbconvert_exporter": "python",
   "pygments_lexer": "ipython3",
   "version": "3.6.4"
  }
 },
 "nbformat": 4,
 "nbformat_minor": 2
}
